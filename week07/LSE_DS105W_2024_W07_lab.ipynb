{
 "cells": [
  {
   "attachments": {},
   "cell_type": "markdown",
   "metadata": {},
   "source": [
    "<font style='font-size:1.5em'>**💻 Week 07 lab – Simple data cleaning with `pd.apply()`**</font>\n",
    "\n",
    "<font style='font-size:1.2em'>DS105W – Data for Data Science</font>\n",
    "\n",
    "**AUTHORS:**  Dr. [Jon Cardoso-Silva](https://jonjoncardoso.github.io) \n",
    "\n",
    "**DEPARTMENT:** [LSE Data Science Institute](https://lse.ac.uk/dsi)\n",
    "\n",
    "**LAST REVISION:** 23 February 2024\n"
   ]
  },
  {
   "attachments": {},
   "cell_type": "markdown",
   "metadata": {},
   "source": [
    "--- \n",
    "\n",
    "**⚙️ The setup**\n",
    "\n",
    "We will use the same libraries as we have been using in the previous weeks. \n"
   ]
  },
  {
   "cell_type": "markdown",
   "metadata": {},
   "source": [
    "Run the cell bellow to ensure you have the most up-to-date version of pandas"
   ]
  },
  {
   "cell_type": "code",
   "execution_count": 112,
   "metadata": {},
   "outputs": [
    {
     "name": "stdout",
     "output_type": "stream",
     "text": [
      "Requirement already satisfied: pandas in /Users/logandaniels/anaconda3/lib/python3.11/site-packages (2.2.1)\n",
      "Requirement already satisfied: numpy<2,>=1.23.2 in /Users/logandaniels/anaconda3/lib/python3.11/site-packages (from pandas) (1.24.3)\n",
      "Requirement already satisfied: python-dateutil>=2.8.2 in /Users/logandaniels/anaconda3/lib/python3.11/site-packages (from pandas) (2.8.2)\n",
      "Requirement already satisfied: pytz>=2020.1 in /Users/logandaniels/anaconda3/lib/python3.11/site-packages (from pandas) (2023.3.post1)\n",
      "Requirement already satisfied: tzdata>=2022.7 in /Users/logandaniels/anaconda3/lib/python3.11/site-packages (from pandas) (2023.3)\n",
      "Requirement already satisfied: six>=1.5 in /Users/logandaniels/anaconda3/lib/python3.11/site-packages (from python-dateutil>=2.8.2->pandas) (1.16.0)\n"
     ]
    }
   ],
   "source": [
    "!pip install --upgrade pandas"
   ]
  },
  {
   "cell_type": "code",
   "execution_count": 113,
   "metadata": {},
   "outputs": [],
   "source": [
    "import io                     # We need to deal with I/O\n",
    "import requests               # This is how we access the web\n",
    "import numpy as np            # This is how we work with arrays\n",
    "import pandas as pd           # This is how we work with data frames\n",
    "\n",
    "from pprint import pprint     # Print things in a pretty way\n",
    "from scrapy import Selector   # This is how we parse HTML"
   ]
  },
  {
   "cell_type": "markdown",
   "metadata": {},
   "source": [
    "**📚 LEARNING OBJECTIVES:***\n",
    "\n",
    "- Discover the best way to search for Python help online\n",
    "- Finally understand why custom functions are helpful in pandas\n",
    "- Learn how to use `pd.apply()` to apply a function to each row of a DataFrame"
   ]
  },
  {
   "cell_type": "markdown",
   "metadata": {},
   "source": [
    "---\n",
    "\n",
    "# Part 0: Export your chat logs (~ 3 min)\n",
    "\n",
    "As part of the <span style=\"font-weight:bold\"> ![](/figures/icons/GENIAL_favicon.png){width=1em} GEN<font color='#D55816'>IA</font>L</span> project, we ask that you fill out the following form as soon as you come to the lab:\n",
    "\n",
    "🎯 **ACTION POINTS**\n",
    "\n",
    "1. 🔗 [**CLICK HERE**](https://forms.office.com/e/689MersZzV) to export your chat log.\n",
    "\n",
    "    Thanks for being GENIAL! 🎟️\n",
    "\n",
    "::: {style=\"width:70%;border: 1px solid #aaa; border-radius:1em; padding: 1em; margin-left:1.5em;\"}\n",
    "\n",
    "👉 **NOTE:** You MUST complete the [**initial form**](https://forms.office.com/e/UsYK256Byf).\n",
    "\n",
    "If you _really_ don't want to participate in GENIAL, just answer 'No' to the Terms & Conditions question - your e-mail address will be deleted from GENIAL's database the following week.\n",
    "\n",
    ":::\n",
    "\n",
    "## Join us this Tuesday for the GENIAL Open Lecture:\n",
    "\n",
    "<iframe src=\"https://www.lse.ac.uk/DSI/Events/2023-24/GENIAL-Open-Lecture\" style=\"border:0px #ffffff none;\" name=\"myiFrame\" scrolling=\"no\" frameborder=\"1\" marginheight=\"0px\" marginwidth=\"0px\" height=\"350px\" width=\"700px\" allowfullscreen></iframe>"
   ]
  },
  {
   "cell_type": "markdown",
   "metadata": {},
   "source": [
    "---\n",
    "\n",
    "# Part I: A pandas trick to scrape tables from the web (20 min)\n",
    "\n",
    "\n",
    "More than learning about a new function, this section is about thinking about a problem and discussing the different ways of researching and making sense of solutions.\n",
    "\n",
    "**As soon as you get to the class, you can jump straight into the tasks.**"
   ]
  },
  {
   "cell_type": "markdown",
   "metadata": {},
   "source": [
    "## Task 1: Reading an HTML table into a DataFrame"
   ]
  },
  {
   "cell_type": "markdown",
   "metadata": {},
   "source": [
    "🎯 **ACTION POINTS:**\n",
    "\n",
    "\n",
    "1. Access the Wikipedia entry for the [List of national capitals by population](https://en.wikipedia.org/wiki/List_of_national_capitals_by_population) and locate the main table on the page.\n",
    "\n",
    "2. We will learn how to use the `pd.read_html()` function from the `pandas` library to parse a table directly from HTML into a DataFrame. The code below shows an example of how to do that. All you have to do is replace the `<blank>` placeholder with the appropriate CSS selector for the table we identified in Step 1:"
   ]
  },
  {
   "cell_type": "code",
   "execution_count": 114,
   "metadata": {},
   "outputs": [
    {
     "name": "stderr",
     "output_type": "stream",
     "text": [
      "/var/folders/zv/nhtt3w6s7wx_2h90bptpfxp80000gn/T/ipykernel_9986/1826240253.py:12: FutureWarning: Passing literal html to 'read_html' is deprecated and will be removed in a future version. To read from a literal string, wrap it in a 'StringIO' object.\n",
      "  df = pd.read_html(table)\n"
     ]
    }
   ],
   "source": [
    "base_url = \"https://en.wikipedia.org/wiki/List_of_national_capitals_by_population\"\n",
    "\n",
    "response = requests.get(base_url)\n",
    "sel = Selector(text=response.text)\n",
    "\n",
    "# Identify the CSS selector for the '19-th century' table\n",
    "table_selector = \"table.wikitable\"\n",
    "\n",
    "# Extract the HTML elements matching the CSS selector\n",
    "table = sel.css(table_selector).extract_first()\n",
    "\n",
    "df = pd.read_html(table)"
   ]
  },
  {
   "cell_type": "markdown",
   "metadata": {},
   "source": [
    "You should see something like:\n",
    "\n",
    "<div style=\"width:40%;font-size:0.75em\">\n",
    "\n",
    "```output\n",
    "[                                  Country / dependency            Capital  \\\n",
    " 0                                              China *            Beijing   \n",
    " 1                                              Japan *              Tokyo   \n",
    " 2                                             Russia *             Moscow   \n",
    " 3                                           DR Congo *           Kinshasa   \n",
    " 4                                          Indonesia *            Jakarta   \n",
    " ..                                                 ...                ...   \n",
    " 234                         Norfolk Island (Australia)           Kingston   \n",
    " 235                Cocos (Keeling) Islands (Australia)        West Island   \n",
    " 236                              Pitcairn Islands (UK)          Adamstown   \n",
    " 237  South Georgia and the South Sandwich Islands (UK)  King Edward Point   \n",
    " 238                                              Palau          Ngerulmud   \n",
    " \n",
    "     Population % of country    Source  \n",
    " 0     21542000         1.5%  [1] 2018  \n",
    " 1     14094034        11.3%  [2] 2023  \n",
    " 2     13104177         9.0%  [3] 2023  \n",
    " 3     12691000        13.2%  [4] 2017  \n",
    " 4     10562088         3.9%  [5] 2020  \n",
    " ..         ...          ...       ...  \n",
    " 234        341          NaN      2015  \n",
    " 235        134        24.6%      2011  \n",
    " 236         40       100.0%      2021  \n",
    " 237         22        73.3%      2018  \n",
    " 238          0         0.0%      2010  \n",
    " \n",
    " [239 rows x 5 columns]]\n",
    "```\n",
    "\n",
    "</div>"
   ]
  },
  {
   "cell_type": "markdown",
   "metadata": {},
   "source": [
    "2. How do you extract the data frame from the output above?"
   ]
  },
  {
   "cell_type": "code",
   "execution_count": 115,
   "metadata": {},
   "outputs": [
    {
     "data": {
      "text/html": [
       "<div>\n",
       "<style scoped>\n",
       "    .dataframe tbody tr th:only-of-type {\n",
       "        vertical-align: middle;\n",
       "    }\n",
       "\n",
       "    .dataframe tbody tr th {\n",
       "        vertical-align: top;\n",
       "    }\n",
       "\n",
       "    .dataframe thead th {\n",
       "        text-align: right;\n",
       "    }\n",
       "</style>\n",
       "<table border=\"1\" class=\"dataframe\">\n",
       "  <thead>\n",
       "    <tr style=\"text-align: right;\">\n",
       "      <th></th>\n",
       "      <th>Country / dependency</th>\n",
       "      <th>Capital</th>\n",
       "      <th>Population</th>\n",
       "      <th>% of country</th>\n",
       "      <th>Source</th>\n",
       "    </tr>\n",
       "  </thead>\n",
       "  <tbody>\n",
       "    <tr>\n",
       "      <th>0</th>\n",
       "      <td>China *</td>\n",
       "      <td>Beijing</td>\n",
       "      <td>21542000</td>\n",
       "      <td>1.5%</td>\n",
       "      <td>[1] 2018</td>\n",
       "    </tr>\n",
       "    <tr>\n",
       "      <th>1</th>\n",
       "      <td>Japan *</td>\n",
       "      <td>Tokyo</td>\n",
       "      <td>14094034</td>\n",
       "      <td>11.3%</td>\n",
       "      <td>[2] 2023</td>\n",
       "    </tr>\n",
       "    <tr>\n",
       "      <th>2</th>\n",
       "      <td>Russia *</td>\n",
       "      <td>Moscow</td>\n",
       "      <td>13104177</td>\n",
       "      <td>9.0%</td>\n",
       "      <td>[3] 2023</td>\n",
       "    </tr>\n",
       "    <tr>\n",
       "      <th>3</th>\n",
       "      <td>DR Congo *</td>\n",
       "      <td>Kinshasa</td>\n",
       "      <td>12691000</td>\n",
       "      <td>13.2%</td>\n",
       "      <td>[4] 2017</td>\n",
       "    </tr>\n",
       "    <tr>\n",
       "      <th>4</th>\n",
       "      <td>Indonesia *</td>\n",
       "      <td>Jakarta</td>\n",
       "      <td>10562088</td>\n",
       "      <td>3.9%</td>\n",
       "      <td>[5] 2020</td>\n",
       "    </tr>\n",
       "    <tr>\n",
       "      <th>...</th>\n",
       "      <td>...</td>\n",
       "      <td>...</td>\n",
       "      <td>...</td>\n",
       "      <td>...</td>\n",
       "      <td>...</td>\n",
       "    </tr>\n",
       "    <tr>\n",
       "      <th>234</th>\n",
       "      <td>Norfolk Island (Australia)</td>\n",
       "      <td>Kingston</td>\n",
       "      <td>341</td>\n",
       "      <td>NaN</td>\n",
       "      <td>2015</td>\n",
       "    </tr>\n",
       "    <tr>\n",
       "      <th>235</th>\n",
       "      <td>Cocos (Keeling) Islands (Australia)</td>\n",
       "      <td>West Island</td>\n",
       "      <td>134</td>\n",
       "      <td>24.6%</td>\n",
       "      <td>2011</td>\n",
       "    </tr>\n",
       "    <tr>\n",
       "      <th>236</th>\n",
       "      <td>Pitcairn Islands (UK)</td>\n",
       "      <td>Adamstown</td>\n",
       "      <td>40</td>\n",
       "      <td>100.0%</td>\n",
       "      <td>2021</td>\n",
       "    </tr>\n",
       "    <tr>\n",
       "      <th>237</th>\n",
       "      <td>South Georgia and the South Sandwich Islands (UK)</td>\n",
       "      <td>King Edward Point</td>\n",
       "      <td>22</td>\n",
       "      <td>73.3%</td>\n",
       "      <td>2018</td>\n",
       "    </tr>\n",
       "    <tr>\n",
       "      <th>238</th>\n",
       "      <td>Palau</td>\n",
       "      <td>Ngerulmud</td>\n",
       "      <td>0</td>\n",
       "      <td>0.0%</td>\n",
       "      <td>2010</td>\n",
       "    </tr>\n",
       "  </tbody>\n",
       "</table>\n",
       "<p>239 rows × 5 columns</p>\n",
       "</div>"
      ],
      "text/plain": [
       "                                  Country / dependency            Capital  \\\n",
       "0                                              China *            Beijing   \n",
       "1                                              Japan *              Tokyo   \n",
       "2                                             Russia *             Moscow   \n",
       "3                                           DR Congo *           Kinshasa   \n",
       "4                                          Indonesia *            Jakarta   \n",
       "..                                                 ...                ...   \n",
       "234                         Norfolk Island (Australia)           Kingston   \n",
       "235                Cocos (Keeling) Islands (Australia)        West Island   \n",
       "236                              Pitcairn Islands (UK)          Adamstown   \n",
       "237  South Georgia and the South Sandwich Islands (UK)  King Edward Point   \n",
       "238                                              Palau          Ngerulmud   \n",
       "\n",
       "    Population % of country    Source  \n",
       "0     21542000         1.5%  [1] 2018  \n",
       "1     14094034        11.3%  [2] 2023  \n",
       "2     13104177         9.0%  [3] 2023  \n",
       "3     12691000        13.2%  [4] 2017  \n",
       "4     10562088         3.9%  [5] 2020  \n",
       "..         ...          ...       ...  \n",
       "234        341          NaN      2015  \n",
       "235        134        24.6%      2011  \n",
       "236         40       100.0%      2021  \n",
       "237         22        73.3%      2018  \n",
       "238          0         0.0%      2010  \n",
       "\n",
       "[239 rows x 5 columns]"
      ]
     },
     "execution_count": 115,
     "metadata": {},
     "output_type": "execute_result"
    }
   ],
   "source": [
    "df[-1]"
   ]
  },
  {
   "cell_type": "markdown",
   "metadata": {},
   "source": [
    "## Task 2: Learning to read warnings + official documentation\n",
    "\n",
    "\n",
    "If you have pandas 2.1.0 or above installed, you probably saw the following warning when you ran the code above:\n",
    "\n",
    "<div style=\"width:50%;font-size:0.9em;\">\n",
    " \n",
    "```output\n",
    "FutureWarning: Passing literal html to 'read_html' is deprecated and will be removed in a future version. To read from a literal string, wrap it in a 'StringIO' object.\n",
    "  pd.read_html(table)\n",
    "```\n",
    "\n",
    "</div>\n",
    "\n",
    "\n",
    "🎯 **ACTION POINTS:**\n",
    "\n",
    "\n",
    "\n",
    "1. What is [StringIO](https://docs.python.org/3/library/io.html#io.StringIO) ? Answer in your own words using Markdown bullet points.\n"
   ]
  },
  {
   "cell_type": "markdown",
   "metadata": {},
   "source": [
    "- Can take a string as an input\n",
    "    - Not a string\n",
    "- Can be used as an input or an output when a function expects a file like object"
   ]
  },
  {
   "cell_type": "markdown",
   "metadata": {},
   "source": [
    "\\# Delete this line and write your answer here\n",
    "\n"
   ]
  },
  {
   "cell_type": "markdown",
   "metadata": {},
   "source": [
    "2. Rewrite the code above such that it no longer throws a warning. (You might need to do a bit of research on your own)"
   ]
  },
  {
   "cell_type": "code",
   "execution_count": 116,
   "metadata": {},
   "outputs": [
    {
     "data": {
      "text/html": [
       "<div>\n",
       "<style scoped>\n",
       "    .dataframe tbody tr th:only-of-type {\n",
       "        vertical-align: middle;\n",
       "    }\n",
       "\n",
       "    .dataframe tbody tr th {\n",
       "        vertical-align: top;\n",
       "    }\n",
       "\n",
       "    .dataframe thead th {\n",
       "        text-align: right;\n",
       "    }\n",
       "</style>\n",
       "<table border=\"1\" class=\"dataframe\">\n",
       "  <thead>\n",
       "    <tr style=\"text-align: right;\">\n",
       "      <th></th>\n",
       "      <th>Country / dependency</th>\n",
       "      <th>Capital</th>\n",
       "      <th>Population</th>\n",
       "      <th>% of country</th>\n",
       "      <th>Source</th>\n",
       "    </tr>\n",
       "  </thead>\n",
       "  <tbody>\n",
       "    <tr>\n",
       "      <th>0</th>\n",
       "      <td>China *</td>\n",
       "      <td>Beijing</td>\n",
       "      <td>21542000</td>\n",
       "      <td>1.5%</td>\n",
       "      <td>[1] 2018</td>\n",
       "    </tr>\n",
       "    <tr>\n",
       "      <th>1</th>\n",
       "      <td>Japan *</td>\n",
       "      <td>Tokyo</td>\n",
       "      <td>14094034</td>\n",
       "      <td>11.3%</td>\n",
       "      <td>[2] 2023</td>\n",
       "    </tr>\n",
       "    <tr>\n",
       "      <th>2</th>\n",
       "      <td>Russia *</td>\n",
       "      <td>Moscow</td>\n",
       "      <td>13104177</td>\n",
       "      <td>9.0%</td>\n",
       "      <td>[3] 2023</td>\n",
       "    </tr>\n",
       "    <tr>\n",
       "      <th>3</th>\n",
       "      <td>DR Congo *</td>\n",
       "      <td>Kinshasa</td>\n",
       "      <td>12691000</td>\n",
       "      <td>13.2%</td>\n",
       "      <td>[4] 2017</td>\n",
       "    </tr>\n",
       "    <tr>\n",
       "      <th>4</th>\n",
       "      <td>Indonesia *</td>\n",
       "      <td>Jakarta</td>\n",
       "      <td>10562088</td>\n",
       "      <td>3.9%</td>\n",
       "      <td>[5] 2020</td>\n",
       "    </tr>\n",
       "    <tr>\n",
       "      <th>...</th>\n",
       "      <td>...</td>\n",
       "      <td>...</td>\n",
       "      <td>...</td>\n",
       "      <td>...</td>\n",
       "      <td>...</td>\n",
       "    </tr>\n",
       "    <tr>\n",
       "      <th>234</th>\n",
       "      <td>Norfolk Island (Australia)</td>\n",
       "      <td>Kingston</td>\n",
       "      <td>341</td>\n",
       "      <td>NaN</td>\n",
       "      <td>2015</td>\n",
       "    </tr>\n",
       "    <tr>\n",
       "      <th>235</th>\n",
       "      <td>Cocos (Keeling) Islands (Australia)</td>\n",
       "      <td>West Island</td>\n",
       "      <td>134</td>\n",
       "      <td>24.6%</td>\n",
       "      <td>2011</td>\n",
       "    </tr>\n",
       "    <tr>\n",
       "      <th>236</th>\n",
       "      <td>Pitcairn Islands (UK)</td>\n",
       "      <td>Adamstown</td>\n",
       "      <td>40</td>\n",
       "      <td>100.0%</td>\n",
       "      <td>2021</td>\n",
       "    </tr>\n",
       "    <tr>\n",
       "      <th>237</th>\n",
       "      <td>South Georgia and the South Sandwich Islands (UK)</td>\n",
       "      <td>King Edward Point</td>\n",
       "      <td>22</td>\n",
       "      <td>73.3%</td>\n",
       "      <td>2018</td>\n",
       "    </tr>\n",
       "    <tr>\n",
       "      <th>238</th>\n",
       "      <td>Palau</td>\n",
       "      <td>Ngerulmud</td>\n",
       "      <td>0</td>\n",
       "      <td>0.0%</td>\n",
       "      <td>2010</td>\n",
       "    </tr>\n",
       "  </tbody>\n",
       "</table>\n",
       "<p>239 rows × 5 columns</p>\n",
       "</div>"
      ],
      "text/plain": [
       "                                  Country / dependency            Capital  \\\n",
       "0                                              China *            Beijing   \n",
       "1                                              Japan *              Tokyo   \n",
       "2                                             Russia *             Moscow   \n",
       "3                                           DR Congo *           Kinshasa   \n",
       "4                                          Indonesia *            Jakarta   \n",
       "..                                                 ...                ...   \n",
       "234                         Norfolk Island (Australia)           Kingston   \n",
       "235                Cocos (Keeling) Islands (Australia)        West Island   \n",
       "236                              Pitcairn Islands (UK)          Adamstown   \n",
       "237  South Georgia and the South Sandwich Islands (UK)  King Edward Point   \n",
       "238                                              Palau          Ngerulmud   \n",
       "\n",
       "    Population % of country    Source  \n",
       "0     21542000         1.5%  [1] 2018  \n",
       "1     14094034        11.3%  [2] 2023  \n",
       "2     13104177         9.0%  [3] 2023  \n",
       "3     12691000        13.2%  [4] 2017  \n",
       "4     10562088         3.9%  [5] 2020  \n",
       "..         ...          ...       ...  \n",
       "234        341          NaN      2015  \n",
       "235        134        24.6%      2011  \n",
       "236         40       100.0%      2021  \n",
       "237         22        73.3%      2018  \n",
       "238          0         0.0%      2010  \n",
       "\n",
       "[239 rows x 5 columns]"
      ]
     },
     "execution_count": 116,
     "metadata": {},
     "output_type": "execute_result"
    }
   ],
   "source": [
    "from io import StringIO\n",
    "string_io = StringIO(table)\n",
    "df = pd.read_html(string_io)\n",
    "df = df[-1]\n",
    "df"
   ]
  },
  {
   "cell_type": "code",
   "execution_count": 108,
   "metadata": {},
   "outputs": [
    {
     "data": {
      "text/html": [
       "<div>\n",
       "<style scoped>\n",
       "    .dataframe tbody tr th:only-of-type {\n",
       "        vertical-align: middle;\n",
       "    }\n",
       "\n",
       "    .dataframe tbody tr th {\n",
       "        vertical-align: top;\n",
       "    }\n",
       "\n",
       "    .dataframe thead th {\n",
       "        text-align: right;\n",
       "    }\n",
       "</style>\n",
       "<table border=\"1\" class=\"dataframe\">\n",
       "  <thead>\n",
       "    <tr style=\"text-align: right;\">\n",
       "      <th></th>\n",
       "      <th>Country / dependency</th>\n",
       "      <th>Capital</th>\n",
       "      <th>Population</th>\n",
       "      <th>% of country</th>\n",
       "      <th>Source</th>\n",
       "    </tr>\n",
       "  </thead>\n",
       "  <tbody>\n",
       "    <tr>\n",
       "      <th>0</th>\n",
       "      <td>China *</td>\n",
       "      <td>Beijing</td>\n",
       "      <td>21542000</td>\n",
       "      <td>1.5%</td>\n",
       "      <td>[1] 2018</td>\n",
       "    </tr>\n",
       "    <tr>\n",
       "      <th>1</th>\n",
       "      <td>Japan *</td>\n",
       "      <td>Tokyo</td>\n",
       "      <td>14094034</td>\n",
       "      <td>11.3%</td>\n",
       "      <td>[2] 2023</td>\n",
       "    </tr>\n",
       "    <tr>\n",
       "      <th>2</th>\n",
       "      <td>Russia *</td>\n",
       "      <td>Moscow</td>\n",
       "      <td>13104177</td>\n",
       "      <td>9.0%</td>\n",
       "      <td>[3] 2023</td>\n",
       "    </tr>\n",
       "    <tr>\n",
       "      <th>3</th>\n",
       "      <td>DR Congo *</td>\n",
       "      <td>Kinshasa</td>\n",
       "      <td>12691000</td>\n",
       "      <td>13.2%</td>\n",
       "      <td>[4] 2017</td>\n",
       "    </tr>\n",
       "    <tr>\n",
       "      <th>4</th>\n",
       "      <td>Indonesia *</td>\n",
       "      <td>Jakarta</td>\n",
       "      <td>10562088</td>\n",
       "      <td>3.9%</td>\n",
       "      <td>[5] 2020</td>\n",
       "    </tr>\n",
       "    <tr>\n",
       "      <th>...</th>\n",
       "      <td>...</td>\n",
       "      <td>...</td>\n",
       "      <td>...</td>\n",
       "      <td>...</td>\n",
       "      <td>...</td>\n",
       "    </tr>\n",
       "    <tr>\n",
       "      <th>234</th>\n",
       "      <td>Norfolk Island (Australia)</td>\n",
       "      <td>Kingston</td>\n",
       "      <td>341</td>\n",
       "      <td>NaN</td>\n",
       "      <td>2015</td>\n",
       "    </tr>\n",
       "    <tr>\n",
       "      <th>235</th>\n",
       "      <td>Cocos (Keeling) Islands (Australia)</td>\n",
       "      <td>West Island</td>\n",
       "      <td>134</td>\n",
       "      <td>24.6%</td>\n",
       "      <td>2011</td>\n",
       "    </tr>\n",
       "    <tr>\n",
       "      <th>236</th>\n",
       "      <td>Pitcairn Islands (UK)</td>\n",
       "      <td>Adamstown</td>\n",
       "      <td>40</td>\n",
       "      <td>100.0%</td>\n",
       "      <td>2021</td>\n",
       "    </tr>\n",
       "    <tr>\n",
       "      <th>237</th>\n",
       "      <td>South Georgia and the South Sandwich Islands (UK)</td>\n",
       "      <td>King Edward Point</td>\n",
       "      <td>22</td>\n",
       "      <td>73.3%</td>\n",
       "      <td>2018</td>\n",
       "    </tr>\n",
       "    <tr>\n",
       "      <th>238</th>\n",
       "      <td>Palau</td>\n",
       "      <td>Ngerulmud</td>\n",
       "      <td>0</td>\n",
       "      <td>0.0%</td>\n",
       "      <td>2010</td>\n",
       "    </tr>\n",
       "  </tbody>\n",
       "</table>\n",
       "<p>239 rows × 5 columns</p>\n",
       "</div>"
      ],
      "text/plain": [
       "                                  Country / dependency            Capital  \\\n",
       "0                                              China *            Beijing   \n",
       "1                                              Japan *              Tokyo   \n",
       "2                                             Russia *             Moscow   \n",
       "3                                           DR Congo *           Kinshasa   \n",
       "4                                          Indonesia *            Jakarta   \n",
       "..                                                 ...                ...   \n",
       "234                         Norfolk Island (Australia)           Kingston   \n",
       "235                Cocos (Keeling) Islands (Australia)        West Island   \n",
       "236                              Pitcairn Islands (UK)          Adamstown   \n",
       "237  South Georgia and the South Sandwich Islands (UK)  King Edward Point   \n",
       "238                                              Palau          Ngerulmud   \n",
       "\n",
       "    Population % of country    Source  \n",
       "0     21542000         1.5%  [1] 2018  \n",
       "1     14094034        11.3%  [2] 2023  \n",
       "2     13104177         9.0%  [3] 2023  \n",
       "3     12691000        13.2%  [4] 2017  \n",
       "4     10562088         3.9%  [5] 2020  \n",
       "..         ...          ...       ...  \n",
       "234        341          NaN      2015  \n",
       "235        134        24.6%      2011  \n",
       "236         40       100.0%      2021  \n",
       "237         22        73.3%      2018  \n",
       "238          0         0.0%      2010  \n",
       "\n",
       "[239 rows x 5 columns]"
      ]
     },
     "execution_count": 108,
     "metadata": {},
     "output_type": "execute_result"
    }
   ],
   "source": [
    "from io import StringIO\n",
    "\n",
    "base_url = \"https://en.wikipedia.org/wiki/List_of_national_capitals_by_population\"\n",
    "\n",
    "response = requests.get(base_url)\n",
    "sel = Selector(text=response.text)\n",
    "\n",
    "# Identify the CSS selector for the '19-th century' table\n",
    "table_selector = \"table.wikitable\"\n",
    "\n",
    "# Extract the HTML elements matching the CSS selector\n",
    "table = StringIO(sel.css(table_selector).extract_first())\n",
    "\n",
    "df = pd.read_html(table)\n",
    "df = df[0]\n",
    "df"
   ]
  },
  {
   "cell_type": "markdown",
   "metadata": {},
   "source": [
    "4. 💭 **REFLECTION TIME:** Summarise your troubleshooting process below. Use Markdown bullet points to write your answer.\n",
    "\n",
    "   - **Finding the source of the problem:** how did you discover what was \"wrong\" with the code? For example, did you Google the warning message? Did you prompt a chatbot? Did you read the official documentation?\n",
    "\n",
    "   - **How did you assess the accuracy of your answer?** Or, in other words, how did you know that your solution was correct?\n",
    "\n",
    "   - **Why does your solution work?** In other words, explain why `pd.read_html` no longer like strings."
   ]
  },
  {
   "cell_type": "markdown",
   "metadata": {},
   "source": [
    "\\# Delete this line and write your answers here"
   ]
  },
  {
   "cell_type": "markdown",
   "metadata": {},
   "source": [
    "5. Let's rename columns to mirror the type of names that are most commonly used in Python:\n",
    "    \n",
    "    - `Country / dependency` -> `country_dependency` (lower case, underscore instead of space)\n",
    "\n",
    "    - `Capital` -> `capital`\n",
    "\n",
    "    - `Population` -> `population`\n",
    "\n",
    "    - `% of country` -> `country_percentage`\n",
    "    \n",
    "    - `Source` -> `source`"
   ]
  },
  {
   "cell_type": "code",
   "execution_count": 117,
   "metadata": {},
   "outputs": [
    {
     "data": {
      "text/html": [
       "<div>\n",
       "<style scoped>\n",
       "    .dataframe tbody tr th:only-of-type {\n",
       "        vertical-align: middle;\n",
       "    }\n",
       "\n",
       "    .dataframe tbody tr th {\n",
       "        vertical-align: top;\n",
       "    }\n",
       "\n",
       "    .dataframe thead th {\n",
       "        text-align: right;\n",
       "    }\n",
       "</style>\n",
       "<table border=\"1\" class=\"dataframe\">\n",
       "  <thead>\n",
       "    <tr style=\"text-align: right;\">\n",
       "      <th></th>\n",
       "      <th>country_dependency</th>\n",
       "      <th>capital</th>\n",
       "      <th>population</th>\n",
       "      <th>country_percentage</th>\n",
       "      <th>source</th>\n",
       "    </tr>\n",
       "  </thead>\n",
       "  <tbody>\n",
       "    <tr>\n",
       "      <th>0</th>\n",
       "      <td>China *</td>\n",
       "      <td>Beijing</td>\n",
       "      <td>21542000</td>\n",
       "      <td>1.5%</td>\n",
       "      <td>[1] 2018</td>\n",
       "    </tr>\n",
       "    <tr>\n",
       "      <th>1</th>\n",
       "      <td>Japan *</td>\n",
       "      <td>Tokyo</td>\n",
       "      <td>14094034</td>\n",
       "      <td>11.3%</td>\n",
       "      <td>[2] 2023</td>\n",
       "    </tr>\n",
       "    <tr>\n",
       "      <th>2</th>\n",
       "      <td>Russia *</td>\n",
       "      <td>Moscow</td>\n",
       "      <td>13104177</td>\n",
       "      <td>9.0%</td>\n",
       "      <td>[3] 2023</td>\n",
       "    </tr>\n",
       "    <tr>\n",
       "      <th>3</th>\n",
       "      <td>DR Congo *</td>\n",
       "      <td>Kinshasa</td>\n",
       "      <td>12691000</td>\n",
       "      <td>13.2%</td>\n",
       "      <td>[4] 2017</td>\n",
       "    </tr>\n",
       "    <tr>\n",
       "      <th>4</th>\n",
       "      <td>Indonesia *</td>\n",
       "      <td>Jakarta</td>\n",
       "      <td>10562088</td>\n",
       "      <td>3.9%</td>\n",
       "      <td>[5] 2020</td>\n",
       "    </tr>\n",
       "    <tr>\n",
       "      <th>...</th>\n",
       "      <td>...</td>\n",
       "      <td>...</td>\n",
       "      <td>...</td>\n",
       "      <td>...</td>\n",
       "      <td>...</td>\n",
       "    </tr>\n",
       "    <tr>\n",
       "      <th>234</th>\n",
       "      <td>Norfolk Island (Australia)</td>\n",
       "      <td>Kingston</td>\n",
       "      <td>341</td>\n",
       "      <td>NaN</td>\n",
       "      <td>2015</td>\n",
       "    </tr>\n",
       "    <tr>\n",
       "      <th>235</th>\n",
       "      <td>Cocos (Keeling) Islands (Australia)</td>\n",
       "      <td>West Island</td>\n",
       "      <td>134</td>\n",
       "      <td>24.6%</td>\n",
       "      <td>2011</td>\n",
       "    </tr>\n",
       "    <tr>\n",
       "      <th>236</th>\n",
       "      <td>Pitcairn Islands (UK)</td>\n",
       "      <td>Adamstown</td>\n",
       "      <td>40</td>\n",
       "      <td>100.0%</td>\n",
       "      <td>2021</td>\n",
       "    </tr>\n",
       "    <tr>\n",
       "      <th>237</th>\n",
       "      <td>South Georgia and the South Sandwich Islands (UK)</td>\n",
       "      <td>King Edward Point</td>\n",
       "      <td>22</td>\n",
       "      <td>73.3%</td>\n",
       "      <td>2018</td>\n",
       "    </tr>\n",
       "    <tr>\n",
       "      <th>238</th>\n",
       "      <td>Palau</td>\n",
       "      <td>Ngerulmud</td>\n",
       "      <td>0</td>\n",
       "      <td>0.0%</td>\n",
       "      <td>2010</td>\n",
       "    </tr>\n",
       "  </tbody>\n",
       "</table>\n",
       "<p>239 rows × 5 columns</p>\n",
       "</div>"
      ],
      "text/plain": [
       "                                    country_dependency            capital  \\\n",
       "0                                              China *            Beijing   \n",
       "1                                              Japan *              Tokyo   \n",
       "2                                             Russia *             Moscow   \n",
       "3                                           DR Congo *           Kinshasa   \n",
       "4                                          Indonesia *            Jakarta   \n",
       "..                                                 ...                ...   \n",
       "234                         Norfolk Island (Australia)           Kingston   \n",
       "235                Cocos (Keeling) Islands (Australia)        West Island   \n",
       "236                              Pitcairn Islands (UK)          Adamstown   \n",
       "237  South Georgia and the South Sandwich Islands (UK)  King Edward Point   \n",
       "238                                              Palau          Ngerulmud   \n",
       "\n",
       "    population country_percentage    source  \n",
       "0     21542000               1.5%  [1] 2018  \n",
       "1     14094034              11.3%  [2] 2023  \n",
       "2     13104177               9.0%  [3] 2023  \n",
       "3     12691000              13.2%  [4] 2017  \n",
       "4     10562088               3.9%  [5] 2020  \n",
       "..         ...                ...       ...  \n",
       "234        341                NaN      2015  \n",
       "235        134              24.6%      2011  \n",
       "236         40             100.0%      2021  \n",
       "237         22              73.3%      2018  \n",
       "238          0               0.0%      2010  \n",
       "\n",
       "[239 rows x 5 columns]"
      ]
     },
     "execution_count": 117,
     "metadata": {},
     "output_type": "execute_result"
    }
   ],
   "source": [
    "# If you already know precisely the order of the columns, you can rename them directly:\n",
    "df.columns = ['country_dependency', 'capital', 'population', 'country_percentage', 'source']\n",
    "df"
   ]
  },
  {
   "cell_type": "markdown",
   "metadata": {},
   "source": [
    "::: {style=\"font-size:0.9em;width:80%;margin-left:2em;\"}\n",
    "\n",
    "The other way, which is more robust in the long term, is using the rename method. Read about it in the documentation [here](https://pandas.pydata.org/pandas-docs/stable/reference/api/pandas.DataFrame.rename.html).\n",
    "\n",
    "You would have to write something like:\n",
    "\n",
    "```python\n",
    "df.rename(columns={'Country / dependency': 'country_dependency', \n",
    "                   'Capital': 'capital', \n",
    "                   'Population': 'population', \n",
    "                   '% of country': 'country_percentage', \n",
    "                   'Source': 'source'}, \n",
    "          inplace=True) # If you don't use inplace=True, you will have to assign the result to df\n",
    "```\n",
    "\n",
    ":::"
   ]
  },
  {
   "cell_type": "markdown",
   "metadata": {},
   "source": [
    "## 👨🏻‍🏫 TEACHING MOMENT\n",
    "\n",
    "Your teacher will mediate a classroom discussion of your responses to the tasks above. Then, they will show a solution to the problem and explain its reasoning.\n"
   ]
  },
  {
   "cell_type": "markdown",
   "metadata": {},
   "source": [
    "---\n",
    "\n",
    "# Part II: Is data cleaning a political act? (40 min)\n",
    "\n",
    "In the past, we showed you that you can convert an entire column of a DataFrame to a different data type. For example, the `population` column of our data frame is currently a string, but to calculate the average population of capitals, we would have to convert it to an integer first. \n",
    "\n",
    "However, if you try to convert the `population` column to an integer using the `astype()` method:\n",
    "\n",
    "```python\n",
    "df['population'].astype(np.int32)\n",
    "```\n",
    "\n",
    "We get a `ValueError` because the column contains non-numeric characters."
   ]
  },
  {
   "cell_type": "markdown",
   "metadata": {},
   "source": [
    "👥 **WORK ON THESE IN PAIRS:**\n",
    "\n",
    "Let's start by practising some troubleshooting skills:\n",
    "\n",
    "1. **Identify the problem**: The error message tells you that the conversion from string to integer failed for a particular population value. What is the value that caused the error?"
   ]
  },
  {
   "cell_type": "code",
   "execution_count": 124,
   "metadata": {},
   "outputs": [
    {
     "ename": "ValueError",
     "evalue": "invalid literal for int() with base 10: '217,732 3,000'",
     "output_type": "error",
     "traceback": [
      "\u001b[0;31m---------------------------------------------------------------------------\u001b[0m",
      "\u001b[0;31mValueError\u001b[0m                                Traceback (most recent call last)",
      "Cell \u001b[0;32mIn[124], line 1\u001b[0m\n\u001b[0;32m----> 1\u001b[0m df[\u001b[38;5;124m'\u001b[39m\u001b[38;5;124mpopulation\u001b[39m\u001b[38;5;124m'\u001b[39m]\u001b[38;5;241m.\u001b[39mastype(np\u001b[38;5;241m.\u001b[39mint32)\n",
      "File \u001b[0;32m~/anaconda3/lib/python3.11/site-packages/pandas/core/generic.py:6640\u001b[0m, in \u001b[0;36mNDFrame.astype\u001b[0;34m(self, dtype, copy, errors)\u001b[0m\n\u001b[1;32m   6634\u001b[0m     results \u001b[38;5;241m=\u001b[39m [\n\u001b[1;32m   6635\u001b[0m         ser\u001b[38;5;241m.\u001b[39mastype(dtype, copy\u001b[38;5;241m=\u001b[39mcopy, errors\u001b[38;5;241m=\u001b[39merrors) \u001b[38;5;28;01mfor\u001b[39;00m _, ser \u001b[38;5;129;01min\u001b[39;00m \u001b[38;5;28mself\u001b[39m\u001b[38;5;241m.\u001b[39mitems()\n\u001b[1;32m   6636\u001b[0m     ]\n\u001b[1;32m   6638\u001b[0m \u001b[38;5;28;01melse\u001b[39;00m:\n\u001b[1;32m   6639\u001b[0m     \u001b[38;5;66;03m# else, only a single dtype is given\u001b[39;00m\n\u001b[0;32m-> 6640\u001b[0m     new_data \u001b[38;5;241m=\u001b[39m \u001b[38;5;28mself\u001b[39m\u001b[38;5;241m.\u001b[39m_mgr\u001b[38;5;241m.\u001b[39mastype(dtype\u001b[38;5;241m=\u001b[39mdtype, copy\u001b[38;5;241m=\u001b[39mcopy, errors\u001b[38;5;241m=\u001b[39merrors)\n\u001b[1;32m   6641\u001b[0m     res \u001b[38;5;241m=\u001b[39m \u001b[38;5;28mself\u001b[39m\u001b[38;5;241m.\u001b[39m_constructor_from_mgr(new_data, axes\u001b[38;5;241m=\u001b[39mnew_data\u001b[38;5;241m.\u001b[39maxes)\n\u001b[1;32m   6642\u001b[0m     \u001b[38;5;28;01mreturn\u001b[39;00m res\u001b[38;5;241m.\u001b[39m__finalize__(\u001b[38;5;28mself\u001b[39m, method\u001b[38;5;241m=\u001b[39m\u001b[38;5;124m\"\u001b[39m\u001b[38;5;124mastype\u001b[39m\u001b[38;5;124m\"\u001b[39m)\n",
      "File \u001b[0;32m~/anaconda3/lib/python3.11/site-packages/pandas/core/internals/managers.py:430\u001b[0m, in \u001b[0;36mBaseBlockManager.astype\u001b[0;34m(self, dtype, copy, errors)\u001b[0m\n\u001b[1;32m    427\u001b[0m \u001b[38;5;28;01melif\u001b[39;00m using_copy_on_write():\n\u001b[1;32m    428\u001b[0m     copy \u001b[38;5;241m=\u001b[39m \u001b[38;5;28;01mFalse\u001b[39;00m\n\u001b[0;32m--> 430\u001b[0m \u001b[38;5;28;01mreturn\u001b[39;00m \u001b[38;5;28mself\u001b[39m\u001b[38;5;241m.\u001b[39mapply(\n\u001b[1;32m    431\u001b[0m     \u001b[38;5;124m\"\u001b[39m\u001b[38;5;124mastype\u001b[39m\u001b[38;5;124m\"\u001b[39m,\n\u001b[1;32m    432\u001b[0m     dtype\u001b[38;5;241m=\u001b[39mdtype,\n\u001b[1;32m    433\u001b[0m     copy\u001b[38;5;241m=\u001b[39mcopy,\n\u001b[1;32m    434\u001b[0m     errors\u001b[38;5;241m=\u001b[39merrors,\n\u001b[1;32m    435\u001b[0m     using_cow\u001b[38;5;241m=\u001b[39musing_copy_on_write(),\n\u001b[1;32m    436\u001b[0m )\n",
      "File \u001b[0;32m~/anaconda3/lib/python3.11/site-packages/pandas/core/internals/managers.py:363\u001b[0m, in \u001b[0;36mBaseBlockManager.apply\u001b[0;34m(self, f, align_keys, **kwargs)\u001b[0m\n\u001b[1;32m    361\u001b[0m         applied \u001b[38;5;241m=\u001b[39m b\u001b[38;5;241m.\u001b[39mapply(f, \u001b[38;5;241m*\u001b[39m\u001b[38;5;241m*\u001b[39mkwargs)\n\u001b[1;32m    362\u001b[0m     \u001b[38;5;28;01melse\u001b[39;00m:\n\u001b[0;32m--> 363\u001b[0m         applied \u001b[38;5;241m=\u001b[39m \u001b[38;5;28mgetattr\u001b[39m(b, f)(\u001b[38;5;241m*\u001b[39m\u001b[38;5;241m*\u001b[39mkwargs)\n\u001b[1;32m    364\u001b[0m     result_blocks \u001b[38;5;241m=\u001b[39m extend_blocks(applied, result_blocks)\n\u001b[1;32m    366\u001b[0m out \u001b[38;5;241m=\u001b[39m \u001b[38;5;28mtype\u001b[39m(\u001b[38;5;28mself\u001b[39m)\u001b[38;5;241m.\u001b[39mfrom_blocks(result_blocks, \u001b[38;5;28mself\u001b[39m\u001b[38;5;241m.\u001b[39maxes)\n",
      "File \u001b[0;32m~/anaconda3/lib/python3.11/site-packages/pandas/core/internals/blocks.py:758\u001b[0m, in \u001b[0;36mBlock.astype\u001b[0;34m(self, dtype, copy, errors, using_cow, squeeze)\u001b[0m\n\u001b[1;32m    755\u001b[0m         \u001b[38;5;28;01mraise\u001b[39;00m \u001b[38;5;167;01mValueError\u001b[39;00m(\u001b[38;5;124m\"\u001b[39m\u001b[38;5;124mCan not squeeze with more than one column.\u001b[39m\u001b[38;5;124m\"\u001b[39m)\n\u001b[1;32m    756\u001b[0m     values \u001b[38;5;241m=\u001b[39m values[\u001b[38;5;241m0\u001b[39m, :]  \u001b[38;5;66;03m# type: ignore[call-overload]\u001b[39;00m\n\u001b[0;32m--> 758\u001b[0m new_values \u001b[38;5;241m=\u001b[39m astype_array_safe(values, dtype, copy\u001b[38;5;241m=\u001b[39mcopy, errors\u001b[38;5;241m=\u001b[39merrors)\n\u001b[1;32m    760\u001b[0m new_values \u001b[38;5;241m=\u001b[39m maybe_coerce_values(new_values)\n\u001b[1;32m    762\u001b[0m refs \u001b[38;5;241m=\u001b[39m \u001b[38;5;28;01mNone\u001b[39;00m\n",
      "File \u001b[0;32m~/anaconda3/lib/python3.11/site-packages/pandas/core/dtypes/astype.py:237\u001b[0m, in \u001b[0;36mastype_array_safe\u001b[0;34m(values, dtype, copy, errors)\u001b[0m\n\u001b[1;32m    234\u001b[0m     dtype \u001b[38;5;241m=\u001b[39m dtype\u001b[38;5;241m.\u001b[39mnumpy_dtype\n\u001b[1;32m    236\u001b[0m \u001b[38;5;28;01mtry\u001b[39;00m:\n\u001b[0;32m--> 237\u001b[0m     new_values \u001b[38;5;241m=\u001b[39m astype_array(values, dtype, copy\u001b[38;5;241m=\u001b[39mcopy)\n\u001b[1;32m    238\u001b[0m \u001b[38;5;28;01mexcept\u001b[39;00m (\u001b[38;5;167;01mValueError\u001b[39;00m, \u001b[38;5;167;01mTypeError\u001b[39;00m):\n\u001b[1;32m    239\u001b[0m     \u001b[38;5;66;03m# e.g. _astype_nansafe can fail on object-dtype of strings\u001b[39;00m\n\u001b[1;32m    240\u001b[0m     \u001b[38;5;66;03m#  trying to convert to float\u001b[39;00m\n\u001b[1;32m    241\u001b[0m     \u001b[38;5;28;01mif\u001b[39;00m errors \u001b[38;5;241m==\u001b[39m \u001b[38;5;124m\"\u001b[39m\u001b[38;5;124mignore\u001b[39m\u001b[38;5;124m\"\u001b[39m:\n",
      "File \u001b[0;32m~/anaconda3/lib/python3.11/site-packages/pandas/core/dtypes/astype.py:182\u001b[0m, in \u001b[0;36mastype_array\u001b[0;34m(values, dtype, copy)\u001b[0m\n\u001b[1;32m    179\u001b[0m     values \u001b[38;5;241m=\u001b[39m values\u001b[38;5;241m.\u001b[39mastype(dtype, copy\u001b[38;5;241m=\u001b[39mcopy)\n\u001b[1;32m    181\u001b[0m \u001b[38;5;28;01melse\u001b[39;00m:\n\u001b[0;32m--> 182\u001b[0m     values \u001b[38;5;241m=\u001b[39m _astype_nansafe(values, dtype, copy\u001b[38;5;241m=\u001b[39mcopy)\n\u001b[1;32m    184\u001b[0m \u001b[38;5;66;03m# in pandas we don't store numpy str dtypes, so convert to object\u001b[39;00m\n\u001b[1;32m    185\u001b[0m \u001b[38;5;28;01mif\u001b[39;00m \u001b[38;5;28misinstance\u001b[39m(dtype, np\u001b[38;5;241m.\u001b[39mdtype) \u001b[38;5;129;01mand\u001b[39;00m \u001b[38;5;28missubclass\u001b[39m(values\u001b[38;5;241m.\u001b[39mdtype\u001b[38;5;241m.\u001b[39mtype, \u001b[38;5;28mstr\u001b[39m):\n",
      "File \u001b[0;32m~/anaconda3/lib/python3.11/site-packages/pandas/core/dtypes/astype.py:133\u001b[0m, in \u001b[0;36m_astype_nansafe\u001b[0;34m(arr, dtype, copy, skipna)\u001b[0m\n\u001b[1;32m    129\u001b[0m     \u001b[38;5;28;01mraise\u001b[39;00m \u001b[38;5;167;01mValueError\u001b[39;00m(msg)\n\u001b[1;32m    131\u001b[0m \u001b[38;5;28;01mif\u001b[39;00m copy \u001b[38;5;129;01mor\u001b[39;00m arr\u001b[38;5;241m.\u001b[39mdtype \u001b[38;5;241m==\u001b[39m \u001b[38;5;28mobject\u001b[39m \u001b[38;5;129;01mor\u001b[39;00m dtype \u001b[38;5;241m==\u001b[39m \u001b[38;5;28mobject\u001b[39m:\n\u001b[1;32m    132\u001b[0m     \u001b[38;5;66;03m# Explicit copy, or required since NumPy can't view from / to object.\u001b[39;00m\n\u001b[0;32m--> 133\u001b[0m     \u001b[38;5;28;01mreturn\u001b[39;00m arr\u001b[38;5;241m.\u001b[39mastype(dtype, copy\u001b[38;5;241m=\u001b[39m\u001b[38;5;28;01mTrue\u001b[39;00m)\n\u001b[1;32m    135\u001b[0m \u001b[38;5;28;01mreturn\u001b[39;00m arr\u001b[38;5;241m.\u001b[39mastype(dtype, copy\u001b[38;5;241m=\u001b[39mcopy)\n",
      "\u001b[0;31mValueError\u001b[0m: invalid literal for int() with base 10: '217,732 3,000'"
     ]
    }
   ],
   "source": [
    "df['population'].astype(np.int32)"
   ]
  },
  {
   "cell_type": "markdown",
   "metadata": {},
   "source": [
    "2. **Was that the only one?** How would you write code to detect **all** the non-numeric values in the `Population` column? Don't worry about fixing the data frame yet, just write the code to detect the non-numeric values.\n",
    "\n",
    "<details style=\"font-size:0.9em;width:40%;margin-left:2em;\"><summary>Click here to read a few Python tips</summary>\n",
    "\n",
    "You can loop through the values of a column in a for loop like this:\n",
    "\n",
    "```python\n",
    "for value in df['population']:\n",
    "    ...do something with value here...\n",
    "```\n",
    "\n",
    "\n",
    "</details>"
   ]
  },
  {
   "cell_type": "code",
   "execution_count": 123,
   "metadata": {},
   "outputs": [
    {
     "ename": "KeyError",
     "evalue": "'21542000'",
     "output_type": "error",
     "traceback": [
      "\u001b[0;31m---------------------------------------------------------------------------\u001b[0m",
      "\u001b[0;31mKeyError\u001b[0m                                  Traceback (most recent call last)",
      "File \u001b[0;32m~/anaconda3/lib/python3.11/site-packages/pandas/core/indexes/base.py:3805\u001b[0m, in \u001b[0;36mIndex.get_loc\u001b[0;34m(self, key)\u001b[0m\n\u001b[1;32m   3804\u001b[0m \u001b[38;5;28;01mtry\u001b[39;00m:\n\u001b[0;32m-> 3805\u001b[0m     \u001b[38;5;28;01mreturn\u001b[39;00m \u001b[38;5;28mself\u001b[39m\u001b[38;5;241m.\u001b[39m_engine\u001b[38;5;241m.\u001b[39mget_loc(casted_key)\n\u001b[1;32m   3806\u001b[0m \u001b[38;5;28;01mexcept\u001b[39;00m \u001b[38;5;167;01mKeyError\u001b[39;00m \u001b[38;5;28;01mas\u001b[39;00m err:\n",
      "File \u001b[0;32mindex.pyx:167\u001b[0m, in \u001b[0;36mpandas._libs.index.IndexEngine.get_loc\u001b[0;34m()\u001b[0m\n",
      "File \u001b[0;32mindex.pyx:196\u001b[0m, in \u001b[0;36mpandas._libs.index.IndexEngine.get_loc\u001b[0;34m()\u001b[0m\n",
      "File \u001b[0;32mpandas/_libs/hashtable_class_helper.pxi:7081\u001b[0m, in \u001b[0;36mpandas._libs.hashtable.PyObjectHashTable.get_item\u001b[0;34m()\u001b[0m\n",
      "File \u001b[0;32mpandas/_libs/hashtable_class_helper.pxi:7089\u001b[0m, in \u001b[0;36mpandas._libs.hashtable.PyObjectHashTable.get_item\u001b[0;34m()\u001b[0m\n",
      "\u001b[0;31mKeyError\u001b[0m: '21542000'",
      "\nThe above exception was the direct cause of the following exception:\n",
      "\u001b[0;31mKeyError\u001b[0m                                  Traceback (most recent call last)",
      "Cell \u001b[0;32mIn[123], line 2\u001b[0m\n\u001b[1;32m      1\u001b[0m \u001b[38;5;28;01mfor\u001b[39;00m item \u001b[38;5;129;01min\u001b[39;00m df[\u001b[38;5;124m'\u001b[39m\u001b[38;5;124mpopulation\u001b[39m\u001b[38;5;124m'\u001b[39m]:\n\u001b[0;32m----> 2\u001b[0m     \u001b[38;5;28;01mfor\u001b[39;00m character \u001b[38;5;129;01min\u001b[39;00m df[item]:\n\u001b[1;32m      3\u001b[0m         \u001b[38;5;28;01mif\u001b[39;00m \u001b[38;5;28mord\u001b[39m(df[item][character]) \u001b[38;5;241m<\u001b[39m \u001b[38;5;241m48\u001b[39m \u001b[38;5;129;01mor\u001b[39;00m \u001b[38;5;28mord\u001b[39m(df[item][character]) \u001b[38;5;241m>\u001b[39m \u001b[38;5;241m57\u001b[39m:\n\u001b[1;32m      4\u001b[0m             df[item] \u001b[38;5;241m=\u001b[39m df[item][:character] \u001b[38;5;241m+\u001b[39m df[item][character \u001b[38;5;241m+\u001b[39m \u001b[38;5;241m1\u001b[39m:]\n",
      "File \u001b[0;32m~/anaconda3/lib/python3.11/site-packages/pandas/core/frame.py:4090\u001b[0m, in \u001b[0;36mDataFrame.__getitem__\u001b[0;34m(self, key)\u001b[0m\n\u001b[1;32m   4088\u001b[0m \u001b[38;5;28;01mif\u001b[39;00m \u001b[38;5;28mself\u001b[39m\u001b[38;5;241m.\u001b[39mcolumns\u001b[38;5;241m.\u001b[39mnlevels \u001b[38;5;241m>\u001b[39m \u001b[38;5;241m1\u001b[39m:\n\u001b[1;32m   4089\u001b[0m     \u001b[38;5;28;01mreturn\u001b[39;00m \u001b[38;5;28mself\u001b[39m\u001b[38;5;241m.\u001b[39m_getitem_multilevel(key)\n\u001b[0;32m-> 4090\u001b[0m indexer \u001b[38;5;241m=\u001b[39m \u001b[38;5;28mself\u001b[39m\u001b[38;5;241m.\u001b[39mcolumns\u001b[38;5;241m.\u001b[39mget_loc(key)\n\u001b[1;32m   4091\u001b[0m \u001b[38;5;28;01mif\u001b[39;00m is_integer(indexer):\n\u001b[1;32m   4092\u001b[0m     indexer \u001b[38;5;241m=\u001b[39m [indexer]\n",
      "File \u001b[0;32m~/anaconda3/lib/python3.11/site-packages/pandas/core/indexes/base.py:3812\u001b[0m, in \u001b[0;36mIndex.get_loc\u001b[0;34m(self, key)\u001b[0m\n\u001b[1;32m   3807\u001b[0m     \u001b[38;5;28;01mif\u001b[39;00m \u001b[38;5;28misinstance\u001b[39m(casted_key, \u001b[38;5;28mslice\u001b[39m) \u001b[38;5;129;01mor\u001b[39;00m (\n\u001b[1;32m   3808\u001b[0m         \u001b[38;5;28misinstance\u001b[39m(casted_key, abc\u001b[38;5;241m.\u001b[39mIterable)\n\u001b[1;32m   3809\u001b[0m         \u001b[38;5;129;01mand\u001b[39;00m \u001b[38;5;28many\u001b[39m(\u001b[38;5;28misinstance\u001b[39m(x, \u001b[38;5;28mslice\u001b[39m) \u001b[38;5;28;01mfor\u001b[39;00m x \u001b[38;5;129;01min\u001b[39;00m casted_key)\n\u001b[1;32m   3810\u001b[0m     ):\n\u001b[1;32m   3811\u001b[0m         \u001b[38;5;28;01mraise\u001b[39;00m InvalidIndexError(key)\n\u001b[0;32m-> 3812\u001b[0m     \u001b[38;5;28;01mraise\u001b[39;00m \u001b[38;5;167;01mKeyError\u001b[39;00m(key) \u001b[38;5;28;01mfrom\u001b[39;00m \u001b[38;5;21;01merr\u001b[39;00m\n\u001b[1;32m   3813\u001b[0m \u001b[38;5;28;01mexcept\u001b[39;00m \u001b[38;5;167;01mTypeError\u001b[39;00m:\n\u001b[1;32m   3814\u001b[0m     \u001b[38;5;66;03m# If we have a listlike key, _check_indexing_error will raise\u001b[39;00m\n\u001b[1;32m   3815\u001b[0m     \u001b[38;5;66;03m#  InvalidIndexError. Otherwise we fall through and re-raise\u001b[39;00m\n\u001b[1;32m   3816\u001b[0m     \u001b[38;5;66;03m#  the TypeError.\u001b[39;00m\n\u001b[1;32m   3817\u001b[0m     \u001b[38;5;28mself\u001b[39m\u001b[38;5;241m.\u001b[39m_check_indexing_error(key)\n",
      "\u001b[0;31mKeyError\u001b[0m: '21542000'"
     ]
    }
   ],
   "source": [
    "for item in df['population']:\n",
    "    for character in df[item]:\n",
    "        if ord(df[item][character]) < 48 or ord(df[item][character]) > 57:\n",
    "            df[item] = df[item][:character] + df[item][character + 1:]\n",
    "\n"
   ]
  },
  {
   "cell_type": "markdown",
   "metadata": {},
   "source": [
    "3. **Wrap your code in a function:** Use the reasoning behind the code you wrote in Step 2 and create a function called `is_invalid_number` that takes a string as input and returns `True` if the string is not a valid number and `False` otherwise.\n",
    "\n",
    "\n",
    "    <div style=\"width:60%;font-size:0.9em;\">\n",
    "    \n",
    "    💡 **Why bother?** As explained in W05 lecture, we want you to become proficient with custom functions. \n",
    "    \n",
    "    [They are great for doing data manipulation in pandas! More on that in Step 5 of this current action point.]{style=\"margin-left:1.5em;\"}\n",
    "    \n",
    "    [THANKS FOR SEEING THIS HIDDEN MARKDOWN PRO-TIP! Did you notice this weird syntax I'm using here? I have text wrapped within square brackets followed by some curly braces... This is a nice little hacky way to apply some inline CSS to the text when writing in Markdown :D ]{style=\"margin-left:1.5em;display:block;color:#ffffff\"}\n",
    "\n",
    "    </div>"
   ]
  },
  {
   "cell_type": "code",
   "execution_count": 119,
   "metadata": {},
   "outputs": [
    {
     "ename": "SyntaxError",
     "evalue": "incomplete input (1827978925.py, line 2)",
     "output_type": "error",
     "traceback": [
      "\u001b[0;36m  Cell \u001b[0;32mIn[119], line 2\u001b[0;36m\u001b[0m\n\u001b[0;31m    \u001b[0m\n\u001b[0m    ^\u001b[0m\n\u001b[0;31mSyntaxError\u001b[0m\u001b[0;31m:\u001b[0m incomplete input\n"
     ]
    }
   ],
   "source": [
    "def is_invalid_number(value):\n",
    "        "
   ]
  },
  {
   "cell_type": "markdown",
   "metadata": {},
   "source": [
    "4. **Test your function:** Test your function with the following inputs:\n",
    " \n",
    "    - `'123'`\n",
    "\n",
    "    - `'abc'`\n",
    "\n",
    "    - `'123 784'`\n",
    "    \n",
    "    What do you expect the output to be for each of these inputs?"
   ]
  },
  {
   "cell_type": "code",
   "execution_count": null,
   "metadata": {},
   "outputs": [],
   "source": [
    "# Delete this line and write your answer here"
   ]
  },
  {
   "cell_type": "markdown",
   "metadata": {},
   "source": [
    "::: {style=\"font-size:0.9em;width:40%;margin-left:2em;\"}\n",
    "\n",
    "**Note**: in real life, we wouldn't need to write a function just for this. There are built-in functions in Python that can do this for us. But we are doing this to practice writing custom functions.\n",
    "\n",
    "**Pro-tip**: See people fighting online for the 'proper' way to identify whether a string constitutes a number by visiting [this StackOverflow](https://stackoverflow.com/questions/354038/how-do-i-check-if-a-string-represents-a-number-float-or-int) discussion thread.\n",
    "\n",
    ":::"
   ]
  },
  {
   "cell_type": "markdown",
   "metadata": {},
   "source": [
    "5. **⭐️ Applying the function to the DataFrame:** This action point will hopefully clarify why we are doing all of this function stuff. \n",
    "\n",
    "    Pandas has a method called `apply()` that applies a function to each element of a DataFrame and returns a new column with the results.\n",
    "\n",
    "    If your function worked well, then the code below should work and return a new column full with `True` and `False` values."
   ]
  },
  {
   "cell_type": "code",
   "execution_count": null,
   "metadata": {},
   "outputs": [],
   "source": [
    "df['population'].apply(is_invalid_number)"
   ]
  },
  {
   "cell_type": "markdown",
   "metadata": {},
   "source": [
    "6. **Save this to a new column:** Save the results of the `apply()` method to a new column called `is_invalid_pop_number` in the DataFrame.\n",
    "\n",
    "    This can be achieved by running the following code:"
   ]
  },
  {
   "cell_type": "code",
   "execution_count": null,
   "metadata": {},
   "outputs": [],
   "source": [
    "df['is_invalid_pop_number'] = df['population'].apply(is_invalid_number)"
   ]
  },
  {
   "cell_type": "markdown",
   "metadata": {},
   "source": [
    "7. **Filter the DataFrame:** Use the `is_invalid_pop_number` column to filter the DataFrame to only include rows where `is_invalid_pop_number` is `True`."
   ]
  },
  {
   "cell_type": "code",
   "execution_count": null,
   "metadata": {},
   "outputs": [],
   "source": [
    "# I only want the lines where the population is invalid\n",
    "selected_rows = df['is_invalid_pop_number'] == True\n",
    "\n",
    "# I pass the list of booleans to the dataframe to select the rows I want\n",
    "df[selected_rows]"
   ]
  },
  {
   "cell_type": "markdown",
   "metadata": {},
   "source": [
    "8. **🏆 How will you solve that?** \n",
    "\n",
    "    Say we don't want to remove the two lines above, but instead, we like to keep only one of the two numbers that appear in their `population` column. How would you do that?\n",
    "\n",
    "    Write the code below that meet the following requirements:\n",
    "\n",
    "    - Create a custom function that takes a string as input. If the string is a valid number, return the number. Otherwise, choose one of the numbers and return it.\n",
    "    \n",
    "    - The function must return a number, not a string passing as a number!\n",
    "\n",
    "    - Use the `apply()` method to apply the function to the `population` column and save the results to a new column called `clean_population`.\n",
    "\n",
    "    - Ensure that the `clean_population` is of type `np.int32`"
   ]
  },
  {
   "cell_type": "code",
   "execution_count": null,
   "metadata": {},
   "outputs": [],
   "source": []
  },
  {
   "cell_type": "markdown",
   "metadata": {},
   "source": [
    "9. **Calculate the average population:** Now that you have cleaned the `population` column, you can calculate the average population of the capitals by running the code below. "
   ]
  },
  {
   "cell_type": "code",
   "execution_count": null,
   "metadata": {},
   "outputs": [],
   "source": [
    "df['clean_population'].mean()"
   ]
  },
  {
   "cell_type": "markdown",
   "metadata": {},
   "source": [
    "Or even a more complete statistical summary of the `clean_population` column:"
   ]
  },
  {
   "cell_type": "code",
   "execution_count": null,
   "metadata": {},
   "outputs": [],
   "source": [
    "df['clean_population'].describe()"
   ]
  },
  {
   "cell_type": "code",
   "execution_count": null,
   "metadata": {},
   "outputs": [],
   "source": [
    "# Or go full fancy and use the pandas style feature to format the output\n",
    "\n",
    "(\n",
    "    df['clean_population']\n",
    "    .describe()         # get the summary statistics\n",
    "    .to_frame()         # convert the output of the describe method from a series to a data frame\n",
    "    .transpose()        # transpose the data frame\n",
    "    .style\n",
    "    .format(\"{:,.0f}\") # apply the comma format to the numbers\n",
    ")"
   ]
  },
  {
   "cell_type": "markdown",
   "metadata": {},
   "source": [
    "---\n",
    "\n",
    "# Part III – Practice, practice, practice (20 min)\n",
    "\n",
    "🎯 **ACTION POINTS:**\n",
    "\n",
    "1. Pre-process the `country_percentage` column to remove the `%` sign and convert it to a float.\n",
    "\n",
    "2. Then, calculate the average percentage of the country that each capital represents."
   ]
  },
  {
   "cell_type": "code",
   "execution_count": null,
   "metadata": {},
   "outputs": [],
   "source": []
  }
 ],
 "metadata": {
  "kernelspec": {
   "display_name": "Python 3",
   "language": "python",
   "name": "python3"
  },
  "language_info": {
   "codemirror_mode": {
    "name": "ipython",
    "version": 3
   },
   "file_extension": ".py",
   "mimetype": "text/x-python",
   "name": "python",
   "nbconvert_exporter": "python",
   "pygments_lexer": "ipython3",
   "version": "3.11.5"
  },
  "orig_nbformat": 4,
  "vscode": {
   "interpreter": {
    "hash": "66a23b877595d3e158647673320c5aac91a1fe2874d6334c4fd4c069dffc5915"
   }
  }
 },
 "nbformat": 4,
 "nbformat_minor": 2
}
