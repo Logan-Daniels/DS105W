{
 "cells": [
  {
   "attachments": {},
   "cell_type": "markdown",
   "metadata": {},
   "source": [
    "<font style='font-size:1.5em'>**💻 Week 07 lab – Simple data cleaning with `pd.apply()`**</font>\n",
    "\n",
    "<font style='font-size:1.2em'>DS105W – Data for Data Science</font>\n",
    "\n",
    "**AUTHORS:**  Dr. [Jon Cardoso-Silva](https://jonjoncardoso.github.io) \n",
    "\n",
    "**DEPARTMENT:** [LSE Data Science Institute](https://lse.ac.uk/dsi)\n",
    "\n",
    "**LAST REVISION:** 23 February 2024\n"
   ]
  },
  {
   "attachments": {},
   "cell_type": "markdown",
   "metadata": {},
   "source": [
    "--- \n",
    "\n",
    "**⚙️ The setup**\n",
    "\n",
    "We will use the same libraries as we have been using in the previous weeks. \n"
   ]
  },
  {
   "cell_type": "markdown",
   "metadata": {},
   "source": [
    "Run the cell bellow to ensure you have the most up-to-date version of pandas"
   ]
  },
  {
   "cell_type": "code",
   "execution_count": null,
   "metadata": {},
   "outputs": [],
   "source": [
    "!pip install --upgrade pandas"
   ]
  },
  {
   "cell_type": "code",
   "execution_count": null,
   "metadata": {},
   "outputs": [],
   "source": [
    "import io                     # We need to deal with I/O\n",
    "import requests               # This is how we access the web\n",
    "import numpy as np            # This is how we work with arrays\n",
    "import pandas as pd           # This is how we work with data frames\n",
    "\n",
    "from pprint import pprint     # Print things in a pretty way\n",
    "from scrapy import Selector   # This is how we parse HTML"
   ]
  },
  {
   "cell_type": "markdown",
   "metadata": {},
   "source": [
    "**📚 LEARNING OBJECTIVES:***\n",
    "\n",
    "- Discover the best way to search for Python help online\n",
    "- Finally understand why custom functions are helpful in pandas\n",
    "- Learn how to use `pd.apply()` to apply a function to each row of a DataFrame"
   ]
  },
  {
   "cell_type": "markdown",
   "metadata": {},
   "source": [
    "---\n",
    "\n",
    "# Part 0: Export your chat logs (~ 3 min)\n",
    "\n",
    "As part of the <span style=\"font-weight:bold\"> ![](/figures/icons/GENIAL_favicon.png){width=1em} GEN<font color='#D55816'>IA</font>L</span> project, we ask that you fill out the following form as soon as you come to the lab:\n",
    "\n",
    "🎯 **ACTION POINTS**\n",
    "\n",
    "1. 🔗 [**CLICK HERE**](https://forms.office.com/e/689MersZzV) to export your chat log.\n",
    "\n",
    "    Thanks for being GENIAL! 🎟️\n",
    "\n",
    "::: {style=\"width:70%;border: 1px solid #aaa; border-radius:1em; padding: 1em; margin-left:1.5em;\"}\n",
    "\n",
    "👉 **NOTE:** You MUST complete the [**initial form**](https://forms.office.com/e/UsYK256Byf).\n",
    "\n",
    "If you _really_ don't want to participate in GENIAL, just answer 'No' to the Terms & Conditions question - your e-mail address will be deleted from GENIAL's database the following week.\n",
    "\n",
    ":::\n",
    "\n",
    "## Join us this Tuesday for the GENIAL Open Lecture:\n",
    "\n",
    "<iframe src=\"https://www.lse.ac.uk/DSI/Events/2023-24/GENIAL-Open-Lecture\" style=\"border:0px #ffffff none;\" name=\"myiFrame\" scrolling=\"no\" frameborder=\"1\" marginheight=\"0px\" marginwidth=\"0px\" height=\"350px\" width=\"700px\" allowfullscreen></iframe>"
   ]
  },
  {
   "cell_type": "markdown",
   "metadata": {},
   "source": [
    "---\n",
    "\n",
    "# Part I: A pandas trick to scrape tables from the web (20 min)\n",
    "\n",
    "\n",
    "More than learning about a new function, this section is about thinking about a problem and discussing the different ways of researching and making sense of solutions.\n",
    "\n",
    "**As soon as you get to the class, you can jump straight into the tasks.**"
   ]
  },
  {
   "cell_type": "markdown",
   "metadata": {},
   "source": [
    "## Task 1: Reading an HTML table into a DataFrame"
   ]
  },
  {
   "cell_type": "markdown",
   "metadata": {},
   "source": [
    "🎯 **ACTION POINTS:**\n",
    "\n",
    "\n",
    "1. Access the Wikipedia entry for the [List of national capitals by population](https://en.wikipedia.org/wiki/List_of_national_capitals_by_population) and locate the main table on the page.\n",
    "\n",
    "2. We will learn how to use the `pd.read_html()` function from the `pandas` library to parse a table directly from HTML into a DataFrame. The code below shows an example of how to do that. All you have to do is replace the `<blank>` placeholder with the appropriate CSS selector for the table we identified in Step 1:"
   ]
  },
  {
   "cell_type": "code",
   "execution_count": null,
   "metadata": {},
   "outputs": [],
   "source": [
    "base_url = \"https://en.wikipedia.org/wiki/List_of_national_capitals_by_population\"\n",
    "\n",
    "response = requests.get(base_url)\n",
    "sel = Selector(text=response.text)\n",
    "\n",
    "# Identify the CSS selector for the '19-th century' table\n",
    "table_selector = <blank>\n",
    "\n",
    "# Extract the HTML elements matching the CSS selector\n",
    "table = sel.css(table_selector).extract_first()\n",
    "\n",
    "pd.read_html(table)"
   ]
  },
  {
   "cell_type": "markdown",
   "metadata": {},
   "source": [
    "You should see something like:\n",
    "\n",
    "<div style=\"width:40%;font-size:0.75em\">\n",
    "\n",
    "```output\n",
    "[                                  Country / dependency            Capital  \\\n",
    " 0                                              China *            Beijing   \n",
    " 1                                              Japan *              Tokyo   \n",
    " 2                                             Russia *             Moscow   \n",
    " 3                                           DR Congo *           Kinshasa   \n",
    " 4                                          Indonesia *            Jakarta   \n",
    " ..                                                 ...                ...   \n",
    " 234                         Norfolk Island (Australia)           Kingston   \n",
    " 235                Cocos (Keeling) Islands (Australia)        West Island   \n",
    " 236                              Pitcairn Islands (UK)          Adamstown   \n",
    " 237  South Georgia and the South Sandwich Islands (UK)  King Edward Point   \n",
    " 238                                              Palau          Ngerulmud   \n",
    " \n",
    "     Population % of country    Source  \n",
    " 0     21542000         1.5%  [1] 2018  \n",
    " 1     14094034        11.3%  [2] 2023  \n",
    " 2     13104177         9.0%  [3] 2023  \n",
    " 3     12691000        13.2%  [4] 2017  \n",
    " 4     10562088         3.9%  [5] 2020  \n",
    " ..         ...          ...       ...  \n",
    " 234        341          NaN      2015  \n",
    " 235        134        24.6%      2011  \n",
    " 236         40       100.0%      2021  \n",
    " 237         22        73.3%      2018  \n",
    " 238          0         0.0%      2010  \n",
    " \n",
    " [239 rows x 5 columns]]\n",
    "```\n",
    "\n",
    "</div>"
   ]
  },
  {
   "cell_type": "markdown",
   "metadata": {},
   "source": [
    "2. How do you extract the data frame from the output above?"
   ]
  },
  {
   "cell_type": "code",
   "execution_count": null,
   "metadata": {},
   "outputs": [],
   "source": [
    "# Remove this line and write your response here"
   ]
  },
  {
   "cell_type": "markdown",
   "metadata": {},
   "source": [
    "## Task 2: Learning to read warnings + official documentation\n",
    "\n",
    "\n",
    "If you have pandas 2.1.0 or above installed, you probably saw the following warning when you ran the code above:\n",
    "\n",
    "<div style=\"width:50%;font-size:0.9em;\">\n",
    " \n",
    "```output\n",
    "FutureWarning: Passing literal html to 'read_html' is deprecated and will be removed in a future version. To read from a literal string, wrap it in a 'StringIO' object.\n",
    "  pd.read_html(table)\n",
    "```\n",
    "\n",
    "</div>\n",
    "\n",
    "\n",
    "🎯 **ACTION POINTS:**\n",
    "\n",
    "\n",
    "\n",
    "1. What is [StringIO](https://docs.python.org/3/library/io.html#io.StringIO) ? Answer in your own words using Markdown bullet points.\n"
   ]
  },
  {
   "cell_type": "markdown",
   "metadata": {},
   "source": [
    "\\# Delete this line and write your answer here\n",
    "\n"
   ]
  },
  {
   "cell_type": "markdown",
   "metadata": {},
   "source": [
    "2. Rewrite the code above such that it no longer throws a warning. (You might need to do a bit of research on your own)"
   ]
  },
  {
   "cell_type": "code",
   "execution_count": null,
   "metadata": {},
   "outputs": [],
   "source": [
    "# Delete this line and write your code here"
   ]
  },
  {
   "cell_type": "markdown",
   "metadata": {},
   "source": [
    "\\# Delete this line and write your answer here"
   ]
  },
  {
   "cell_type": "markdown",
   "metadata": {},
   "source": [
    "4. 💭 **REFLECTION TIME:** Summarise your troubleshooting process below. Use Markdown bullet points to write your answer.\n",
    "\n",
    "   - **Finding the source of the problem:** how did you discover what was \"wrong\" with the code? For example, did you Google the warning message? Did you prompt a chatbot? Did you read the official documentation?\n",
    "\n",
    "   - **How did you assess the accuracy of your answer?** Or, in other words, how did you know that your solution was correct?\n",
    "\n",
    "   - **Why does your solution work?** In other words, explain why `pd.read_html` no longer like strings."
   ]
  },
  {
   "cell_type": "markdown",
   "metadata": {},
   "source": [
    "\\# Delete this line and write your answers here"
   ]
  },
  {
   "cell_type": "markdown",
   "metadata": {},
   "source": [
    "5. Let's rename columns to mirror the type of names that are most commonly used in Python:\n",
    "    \n",
    "    - `Country / dependency` -> `country_dependency` (lower case, underscore instead of space)\n",
    "\n",
    "    - `Capital` -> `capital`\n",
    "\n",
    "    - `Population` -> `population`\n",
    "\n",
    "    - `% of country` -> `country_percentage`\n",
    "    \n",
    "    - `Source` -> `source`"
   ]
  },
  {
   "cell_type": "code",
   "execution_count": null,
   "metadata": {},
   "outputs": [],
   "source": [
    "# If you already know precisely the order of the columns, you can rename them directly:\n",
    "df.columns = ['country_dependency', 'capital', 'population', 'country_percentage', 'source']"
   ]
  },
  {
   "cell_type": "markdown",
   "metadata": {},
   "source": [
    "::: {style=\"font-size:0.9em;width:80%;margin-left:2em;\"}\n",
    "\n",
    "The other way, which is more robust in the long term, is using the rename method. Read about it in the documentation [here](https://pandas.pydata.org/pandas-docs/stable/reference/api/pandas.DataFrame.rename.html).\n",
    "\n",
    "You would have to write something like:\n",
    "\n",
    "```python\n",
    "df.rename(columns={'Country / dependency': 'country_dependency', \n",
    "                   'Capital': 'capital', \n",
    "                   'Population': 'population', \n",
    "                   '% of country': 'country_percentage', \n",
    "                   'Source': 'source'}, \n",
    "          inplace=True) # If you don't use inplace=True, you will have to assign the result to df\n",
    "```\n",
    "\n",
    ":::"
   ]
  },
  {
   "cell_type": "markdown",
   "metadata": {},
   "source": [
    "## 👨🏻‍🏫 TEACHING MOMENT\n",
    "\n",
    "Your teacher will mediate a classroom discussion of your responses to the tasks above. Then, they will show a solution to the problem and explain its reasoning.\n"
   ]
  },
  {
   "cell_type": "markdown",
   "metadata": {},
   "source": [
    "---\n",
    "\n",
    "# Part II: Is data cleaning a political act? (40 min)\n",
    "\n",
    "In the past, we showed you that you can convert an entire column of a DataFrame to a different data type. For example, the `population` column of our data frame is currently a string, but to calculate the average population of capitals, we would have to convert it to an integer first. \n",
    "\n",
    "However, if you try to convert the `population` column to an integer using the `astype()` method:\n",
    "\n",
    "```python\n",
    "df['population'].astype(np.int32)\n",
    "```\n",
    "\n",
    "We get a `ValueError` because the column contains non-numeric characters."
   ]
  },
  {
   "cell_type": "markdown",
   "metadata": {},
   "source": [
    "👥 **WORK ON THESE IN PAIRS:**\n",
    "\n",
    "Let's start by practising some troubleshooting skills:\n",
    "\n",
    "1. **Identify the problem**: The error message tells you that the conversion from string to integer failed for a particular population value. What is the value that caused the error?"
   ]
  },
  {
   "cell_type": "markdown",
   "metadata": {},
   "source": [
    "\\# Delete this line and write your answer here"
   ]
  },
  {
   "cell_type": "markdown",
   "metadata": {},
   "source": [
    "2. **Was that the only one?** How would you write code to detect **all** the non-numeric values in the `Population` column? Don't worry about fixing the data frame yet, just write the code to detect the non-numeric values.\n",
    "\n",
    "<details style=\"font-size:0.9em;width:40%;margin-left:2em;\"><summary>Click here to read a few Python tips</summary>\n",
    "\n",
    "You can loop through the values of a column in a for loop like this:\n",
    "\n",
    "```python\n",
    "for value in df['population']:\n",
    "    ...do something with value here...\n",
    "```\n",
    "\n",
    "\n",
    "</details>"
   ]
  },
  {
   "cell_type": "code",
   "execution_count": null,
   "metadata": {},
   "outputs": [],
   "source": [
    "# Delete this line and write your answer here"
   ]
  },
  {
   "cell_type": "markdown",
   "metadata": {},
   "source": [
    "3. **Wrap your code in a function:** Use the reasoning behind the code you wrote in Step 2 and create a function called `is_invalid_number` that takes a string as input and returns `True` if the string is not a valid number and `False` otherwise.\n",
    "\n",
    "\n",
    "    <div style=\"width:60%;font-size:0.9em;\">\n",
    "    \n",
    "    💡 **Why bother?** As explained in W05 lecture, we want you to become proficient with custom functions. \n",
    "    \n",
    "    [They are great for doing data manipulation in pandas! More on that in Step 5 of this current action point.]{style=\"margin-left:1.5em;\"}\n",
    "    \n",
    "    [THANKS FOR SEEING THIS HIDDEN MARKDOWN PRO-TIP! Did you notice this weird syntax I'm using here? I have text wrapped within square brackets followed by some curly braces... This is a nice little hacky way to apply some inline CSS to the text when writing in Markdown :D ]{style=\"margin-left:1.5em;display:block;color:#ffffff\"}\n",
    "\n",
    "    </div>"
   ]
  },
  {
   "cell_type": "code",
   "execution_count": null,
   "metadata": {},
   "outputs": [],
   "source": [
    "def is_invalid_number(value):\n",
    "        "
   ]
  },
  {
   "cell_type": "markdown",
   "metadata": {},
   "source": [
    "4. **Test your function:** Test your function with the following inputs:\n",
    " \n",
    "    - `'123'`\n",
    "\n",
    "    - `'abc'`\n",
    "\n",
    "    - `'123 784'`\n",
    "    \n",
    "    What do you expect the output to be for each of these inputs?"
   ]
  },
  {
   "cell_type": "code",
   "execution_count": null,
   "metadata": {},
   "outputs": [],
   "source": [
    "# Delete this line and write your answer here"
   ]
  },
  {
   "cell_type": "markdown",
   "metadata": {},
   "source": [
    "::: {style=\"font-size:0.9em;width:40%;margin-left:2em;\"}\n",
    "\n",
    "**Note**: in real life, we wouldn't need to write a function just for this. There are built-in functions in Python that can do this for us. But we are doing this to practice writing custom functions.\n",
    "\n",
    "**Pro-tip**: See people fighting online for the 'proper' way to identify whether a string constitutes a number by visiting [this StackOverflow](https://stackoverflow.com/questions/354038/how-do-i-check-if-a-string-represents-a-number-float-or-int) discussion thread.\n",
    "\n",
    ":::"
   ]
  },
  {
   "cell_type": "markdown",
   "metadata": {},
   "source": [
    "5. **⭐️ Applying the function to the DataFrame:** This action point will hopefully clarify why we are doing all of this function stuff. \n",
    "\n",
    "    Pandas has a method called `apply()` that applies a function to each element of a DataFrame and returns a new column with the results.\n",
    "\n",
    "    If your function worked well, then the code below should work and return a new column full with `True` and `False` values."
   ]
  },
  {
   "cell_type": "code",
   "execution_count": null,
   "metadata": {},
   "outputs": [],
   "source": [
    "df['population'].apply(is_invalid_number)"
   ]
  },
  {
   "cell_type": "markdown",
   "metadata": {},
   "source": [
    "6. **Save this to a new column:** Save the results of the `apply()` method to a new column called `is_invalid_pop_number` in the DataFrame.\n",
    "\n",
    "    This can be achieved by running the following code:"
   ]
  },
  {
   "cell_type": "code",
   "execution_count": null,
   "metadata": {},
   "outputs": [],
   "source": [
    "df['is_invalid_pop_number'] = df['population'].apply(is_invalid_number)"
   ]
  },
  {
   "cell_type": "markdown",
   "metadata": {},
   "source": [
    "7. **Filter the DataFrame:** Use the `is_invalid_pop_number` column to filter the DataFrame to only include rows where `is_invalid_pop_number` is `True`."
   ]
  },
  {
   "cell_type": "code",
   "execution_count": null,
   "metadata": {},
   "outputs": [],
   "source": [
    "# I only want the lines where the population is invalid\n",
    "selected_rows = df['is_invalid_pop_number'] == True\n",
    "\n",
    "# I pass the list of booleans to the dataframe to select the rows I want\n",
    "df[selected_rows]"
   ]
  },
  {
   "cell_type": "markdown",
   "metadata": {},
   "source": [
    "8. **🏆 How will you solve that?** \n",
    "\n",
    "    Say we don't want to remove the two lines above, but instead, we like to keep only one of the two numbers that appear in their `population` column. How would you do that?\n",
    "\n",
    "    Write the code below that meet the following requirements:\n",
    "\n",
    "    - Create a custom function that takes a string as input. If the string is a valid number, return the number. Otherwise, choose one of the numbers and return it.\n",
    "    \n",
    "    - The function must return a number, not a string passing as a number!\n",
    "\n",
    "    - Use the `apply()` method to apply the function to the `population` column and save the results to a new column called `clean_population`.\n",
    "\n",
    "    - Ensure that the `clean_population` is of type `np.int32`"
   ]
  },
  {
   "cell_type": "code",
   "execution_count": null,
   "metadata": {},
   "outputs": [],
   "source": []
  },
  {
   "cell_type": "markdown",
   "metadata": {},
   "source": [
    "9. **Calculate the average population:** Now that you have cleaned the `population` column, you can calculate the average population of the capitals by running the code below. "
   ]
  },
  {
   "cell_type": "code",
   "execution_count": null,
   "metadata": {},
   "outputs": [],
   "source": [
    "df['clean_population'].mean()"
   ]
  },
  {
   "cell_type": "markdown",
   "metadata": {},
   "source": [
    "Or even a more complete statistical summary of the `clean_population` column:"
   ]
  },
  {
   "cell_type": "code",
   "execution_count": null,
   "metadata": {},
   "outputs": [],
   "source": [
    "df['clean_population'].describe()"
   ]
  },
  {
   "cell_type": "code",
   "execution_count": null,
   "metadata": {},
   "outputs": [],
   "source": [
    "# Or go full fancy and use the pandas style feature to format the output\n",
    "\n",
    "(\n",
    "    df['clean_population']\n",
    "    .describe()         # get the summary statistics\n",
    "    .to_frame()         # convert the output of the describe method from a series to a data frame\n",
    "    .transpose()        # transpose the data frame\n",
    "    .style\n",
    "    .format(\"{:,.0f}\") # apply the comma format to the numbers\n",
    ")"
   ]
  },
  {
   "cell_type": "markdown",
   "metadata": {},
   "source": [
    "---\n",
    "\n",
    "# Part III – Practice, practice, practice (20 min)\n",
    "\n",
    "🎯 **ACTION POINTS:**\n",
    "\n",
    "1. Pre-process the `country_percentage` column to remove the `%` sign and convert it to a float.\n",
    "\n",
    "2. Then, calculate the average percentage of the country that each capital represents."
   ]
  },
  {
   "cell_type": "code",
   "execution_count": null,
   "metadata": {},
   "outputs": [],
   "source": []
  }
 ],
 "metadata": {
  "kernelspec": {
   "display_name": "Python 3",
   "language": "python",
   "name": "python3"
  },
  "language_info": {
   "codemirror_mode": {
    "name": "ipython",
    "version": 3
   },
   "file_extension": ".py",
   "mimetype": "text/x-python",
   "name": "python",
   "nbconvert_exporter": "python",
   "pygments_lexer": "ipython3",
   "version": "3.11.5"
  },
  "orig_nbformat": 4,
  "vscode": {
   "interpreter": {
    "hash": "66a23b877595d3e158647673320c5aac91a1fe2874d6334c4fd4c069dffc5915"
   }
  }
 },
 "nbformat": 4,
 "nbformat_minor": 2
}
